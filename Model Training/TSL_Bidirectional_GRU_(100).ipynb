{
  "nbformat": 4,
  "nbformat_minor": 0,
  "metadata": {
    "colab": {
      "name": "TSL Bidirectional_GRU (100).ipynb",
      "provenance": [],
      "machine_shape": "hm"
    },
    "kernelspec": {
      "name": "python3",
      "display_name": "Python 3"
    },
    "language_info": {
      "name": "python"
    },
    "accelerator": "GPU"
  },
  "cells": [
    {
      "cell_type": "code",
      "metadata": {
        "id": "c6rfQxnfuRpY"
      },
      "source": [
        "import cv2\n",
        "import numpy as np\n",
        "import os\n",
        "from matplotlib import pyplot as plt\n",
        "from sklearn.model_selection import train_test_split\n",
        "from tensorflow.keras.utils import to_categorical\n",
        "from keras import models"
      ],
      "execution_count": null,
      "outputs": []
    },
    {
      "cell_type": "code",
      "metadata": {
        "id": "bKU74omKuaVH"
      },
      "source": [
        "actions = ['星期二', '幾月幾號', '台北', '星期一', '星期三', '有', '什麼', '完了嗎', '將近', '父母', '一共', '買', '家裡', '房子', '銀行', '昨天', '認識', '見她', '今天', '久', '比較', '一', '手語', '你', '他們', '星期五', '是嗎', '誰', '還沒有', '星期六', '桃園', '朋友', '高鐵到', '吃飯', '會不會呢', '我問你', '生日', '我們兩個', '租', '棒', '孩子', '零', '星期天', '明天', '運動', '星期四', '捷運站', '一樣', '上課', '我', '年齡', '無', '天氣', '相見', '名字']\n"
      ],
      "execution_count": null,
      "outputs": []
    },
    {
      "cell_type": "code",
      "metadata": {
        "id": "gvkMp4IRvRdu",
        "colab": {
          "base_uri": "https://localhost:8080/"
        },
        "outputId": "2adecebb-6f7d-4ffb-9c56-d5de140926ee"
      },
      "source": [
        "from google.colab import drive\n",
        "drive.mount('/content/drive')"
      ],
      "execution_count": null,
      "outputs": [
        {
          "output_type": "stream",
          "text": [
            "Mounted at /content/drive\n"
          ],
          "name": "stdout"
        }
      ]
    },
    {
      "cell_type": "code",
      "metadata": {
        "id": "T3GOs6o7ufO8"
      },
      "source": [
        "sequences = np.load('/content/drive/MyDrive/AI Python/Dataset/Refined_New_X_100.npy')\n",
        "labels = np.load('/content/drive/MyDrive/AI Python/Dataset/Refined_New_Y_100.npy')"
      ],
      "execution_count": null,
      "outputs": []
    },
    {
      "cell_type": "code",
      "metadata": {
        "id": "QVQ52_azuhJm",
        "colab": {
          "base_uri": "https://localhost:8080/"
        },
        "outputId": "b9ad92ff-6144-4e70-e288-2a555b69defc"
      },
      "source": [
        "np.array(sequences).shape "
      ],
      "execution_count": null,
      "outputs": [
        {
          "output_type": "execute_result",
          "data": {
            "text/plain": [
              "(5500, 60, 165)"
            ]
          },
          "metadata": {
            "tags": []
          },
          "execution_count": 5
        }
      ]
    },
    {
      "cell_type": "code",
      "metadata": {
        "id": "7g_j_bNdulBD",
        "colab": {
          "base_uri": "https://localhost:8080/"
        },
        "outputId": "69b55480-dd19-42d1-ef45-7b400b990640"
      },
      "source": [
        "np.array(labels).shape"
      ],
      "execution_count": null,
      "outputs": [
        {
          "output_type": "execute_result",
          "data": {
            "text/plain": [
              "(5500,)"
            ]
          },
          "metadata": {
            "tags": []
          },
          "execution_count": 6
        }
      ]
    },
    {
      "cell_type": "code",
      "metadata": {
        "id": "HseVo76yulfp"
      },
      "source": [
        "X = np.array(sequences)"
      ],
      "execution_count": null,
      "outputs": []
    },
    {
      "cell_type": "code",
      "metadata": {
        "id": "jSJmsewFuqPL"
      },
      "source": [
        "y = to_categorical(labels).astype(int)"
      ],
      "execution_count": null,
      "outputs": []
    },
    {
      "cell_type": "code",
      "metadata": {
        "id": "ysGdvAVjuqtD",
        "colab": {
          "base_uri": "https://localhost:8080/"
        },
        "outputId": "06596668-a8c3-4e12-d84f-bc8f09b1de41"
      },
      "source": [
        "y.shape"
      ],
      "execution_count": null,
      "outputs": [
        {
          "output_type": "execute_result",
          "data": {
            "text/plain": [
              "(5500, 55)"
            ]
          },
          "metadata": {
            "tags": []
          },
          "execution_count": 9
        }
      ]
    },
    {
      "cell_type": "code",
      "metadata": {
        "id": "gkqiCSbIutoR",
        "colab": {
          "base_uri": "https://localhost:8080/"
        },
        "outputId": "28c24854-ea52-41a3-fb34-0594b003d691"
      },
      "source": [
        "X_train, X_test, y_train, y_test = train_test_split(X, y, test_size=0.05)\n",
        "y_test.shape"
      ],
      "execution_count": null,
      "outputs": [
        {
          "output_type": "execute_result",
          "data": {
            "text/plain": [
              "(275, 55)"
            ]
          },
          "metadata": {
            "tags": []
          },
          "execution_count": 10
        }
      ]
    },
    {
      "cell_type": "code",
      "metadata": {
        "colab": {
          "base_uri": "https://localhost:8080/"
        },
        "id": "2q1WKQi5qK2J",
        "outputId": "39bef23b-c225-4d45-c1cd-4e48ff4a4716"
      },
      "source": [
        "from tensorflow.keras.models import Sequential\n",
        "from tensorflow.keras.layers import LSTM, Dense, Dropout, GRU, Bidirectional, BatchNormalization,ReLU,Activation\n",
        "from tensorflow.keras.callbacks import TensorBoard\n",
        "\n",
        "\n",
        "model = Sequential()\n",
        "model.add(Bidirectional(GRU(512, return_sequences=True, activation='elu'), input_shape=(60,165)))\n",
        "model.add(Bidirectional(GRU(1024, return_sequences=True, activation='elu')))\n",
        "model.add(Bidirectional(GRU(512, return_sequences=False, activation='elu')))\n",
        "model.add(Dense(512, activation='elu'))\n",
        "model.add(Dense(256, activation='elu'))\n",
        "model.add(Dense(np.array(actions).shape[0], activation='softmax'))\n",
        "model.summary()"
      ],
      "execution_count": null,
      "outputs": [
        {
          "output_type": "stream",
          "text": [
            "WARNING:tensorflow:Layer gru will not use cuDNN kernels since it doesn't meet the criteria. It will use a generic GPU kernel as fallback when running on GPU.\n",
            "WARNING:tensorflow:Layer gru will not use cuDNN kernels since it doesn't meet the criteria. It will use a generic GPU kernel as fallback when running on GPU.\n",
            "WARNING:tensorflow:Layer gru will not use cuDNN kernels since it doesn't meet the criteria. It will use a generic GPU kernel as fallback when running on GPU.\n",
            "WARNING:tensorflow:Layer gru_1 will not use cuDNN kernels since it doesn't meet the criteria. It will use a generic GPU kernel as fallback when running on GPU.\n",
            "WARNING:tensorflow:Layer gru_1 will not use cuDNN kernels since it doesn't meet the criteria. It will use a generic GPU kernel as fallback when running on GPU.\n",
            "WARNING:tensorflow:Layer gru_1 will not use cuDNN kernels since it doesn't meet the criteria. It will use a generic GPU kernel as fallback when running on GPU.\n",
            "WARNING:tensorflow:Layer gru_2 will not use cuDNN kernels since it doesn't meet the criteria. It will use a generic GPU kernel as fallback when running on GPU.\n",
            "WARNING:tensorflow:Layer gru_2 will not use cuDNN kernels since it doesn't meet the criteria. It will use a generic GPU kernel as fallback when running on GPU.\n",
            "WARNING:tensorflow:Layer gru_2 will not use cuDNN kernels since it doesn't meet the criteria. It will use a generic GPU kernel as fallback when running on GPU.\n",
            "Model: \"sequential\"\n",
            "_________________________________________________________________\n",
            "Layer (type)                 Output Shape              Param #   \n",
            "=================================================================\n",
            "bidirectional (Bidirectional (None, 60, 1024)          2085888   \n",
            "_________________________________________________________________\n",
            "bidirectional_1 (Bidirection (None, 60, 2048)          12595200  \n",
            "_________________________________________________________________\n",
            "bidirectional_2 (Bidirection (None, 1024)              7870464   \n",
            "_________________________________________________________________\n",
            "dense (Dense)                (None, 512)               524800    \n",
            "_________________________________________________________________\n",
            "dense_1 (Dense)              (None, 256)               131328    \n",
            "_________________________________________________________________\n",
            "dense_2 (Dense)              (None, 55)                14135     \n",
            "=================================================================\n",
            "Total params: 23,221,815\n",
            "Trainable params: 23,221,815\n",
            "Non-trainable params: 0\n",
            "_________________________________________________________________\n"
          ],
          "name": "stdout"
        }
      ]
    },
    {
      "cell_type": "code",
      "metadata": {
        "colab": {
          "base_uri": "https://localhost:8080/"
        },
        "id": "kKSTH6gNrI5R",
        "outputId": "86b9ab85-d6e2-41e3-d76f-1ebf99e94a27"
      },
      "source": [
        "#Bidirectional GRU (100)\n",
        "from tensorflow.keras.optimizers import Adam\n",
        "model.compile(loss='categorical_crossentropy', optimizer=Adam(learning_rate=0.001), metrics=['categorical_accuracy'])\n",
        "import keras\n",
        "from keras.callbacks import ModelCheckpoint, EarlyStopping\n",
        "#checkpoint = keras.callbacks.ModelCheckpoint('/content/drive/MyDrive/AI Python/Dataset/Dropout.h5', monitor='val_categorical_accuracy', mode=\"max\", save_best_only=True, verbose=1)\n",
        "earlystopping = keras.callbacks.EarlyStopping(monitor='val_loss', mode=\"auto\", patience=3, verbose=1)\n",
        "rlr = keras.callbacks.ReduceLROnPlateau(monitor='val_loss', factor=0.1, patience=1, verbose=1, mode='auto')\n",
        "\n",
        "\n",
        "model.fit(X_train, y_train,validation_split = 0.1,\n",
        "              epochs=30,\n",
        "              batch_size = 32,\n",
        "              callbacks=[rlr,earlystopping])\n"
      ],
      "execution_count": null,
      "outputs": [
        {
          "output_type": "stream",
          "text": [
            "Epoch 1/30\n",
            "147/147 [==============================] - 112s 707ms/step - loss: 2.2843 - categorical_accuracy: 0.3805 - val_loss: 1.4668 - val_categorical_accuracy: 0.6061\n",
            "Epoch 2/30\n",
            "147/147 [==============================] - 103s 701ms/step - loss: 0.9713 - categorical_accuracy: 0.7099 - val_loss: 0.7054 - val_categorical_accuracy: 0.7763\n",
            "Epoch 3/30\n",
            "147/147 [==============================] - 106s 718ms/step - loss: 0.5492 - categorical_accuracy: 0.8311 - val_loss: 0.6685 - val_categorical_accuracy: 0.8107\n",
            "Epoch 4/30\n",
            "147/147 [==============================] - 105s 715ms/step - loss: 0.4773 - categorical_accuracy: 0.8530 - val_loss: 0.7574 - val_categorical_accuracy: 0.7897\n",
            "\n",
            "Epoch 00004: ReduceLROnPlateau reducing learning rate to 0.00010000000474974513.\n",
            "Epoch 5/30\n",
            "147/147 [==============================] - 105s 716ms/step - loss: 0.1158 - categorical_accuracy: 0.9634 - val_loss: 0.2102 - val_categorical_accuracy: 0.9541\n",
            "Epoch 6/30\n",
            "147/147 [==============================] - 105s 715ms/step - loss: 0.0380 - categorical_accuracy: 0.9902 - val_loss: 0.1947 - val_categorical_accuracy: 0.9541\n",
            "Epoch 7/30\n",
            "147/147 [==============================] - 106s 724ms/step - loss: 0.0263 - categorical_accuracy: 0.9940 - val_loss: 0.1933 - val_categorical_accuracy: 0.9541\n",
            "Epoch 8/30\n",
            "147/147 [==============================] - 107s 726ms/step - loss: 0.0200 - categorical_accuracy: 0.9960 - val_loss: 0.2007 - val_categorical_accuracy: 0.9503\n",
            "\n",
            "Epoch 00008: ReduceLROnPlateau reducing learning rate to 1.0000000474974514e-05.\n",
            "Epoch 9/30\n",
            "147/147 [==============================] - 106s 724ms/step - loss: 0.0157 - categorical_accuracy: 0.9983 - val_loss: 0.1897 - val_categorical_accuracy: 0.9541\n",
            "Epoch 10/30\n",
            "147/147 [==============================] - 106s 721ms/step - loss: 0.0134 - categorical_accuracy: 0.9985 - val_loss: 0.1891 - val_categorical_accuracy: 0.9541\n",
            "Epoch 11/30\n",
            "147/147 [==============================] - 105s 714ms/step - loss: 0.0128 - categorical_accuracy: 0.9987 - val_loss: 0.1891 - val_categorical_accuracy: 0.9560\n",
            "\n",
            "Epoch 00011: ReduceLROnPlateau reducing learning rate to 1.0000000656873453e-06.\n",
            "Epoch 12/30\n",
            "147/147 [==============================] - 106s 718ms/step - loss: 0.0123 - categorical_accuracy: 0.9991 - val_loss: 0.1891 - val_categorical_accuracy: 0.9560\n",
            "\n",
            "Epoch 00012: ReduceLROnPlateau reducing learning rate to 1.0000001111620805e-07.\n",
            "Epoch 13/30\n",
            "147/147 [==============================] - 105s 715ms/step - loss: 0.0122 - categorical_accuracy: 0.9991 - val_loss: 0.1891 - val_categorical_accuracy: 0.9560\n",
            "\n",
            "Epoch 00013: ReduceLROnPlateau reducing learning rate to 1.000000082740371e-08.\n",
            "Epoch 14/30\n",
            "147/147 [==============================] - 105s 711ms/step - loss: 0.0122 - categorical_accuracy: 0.9991 - val_loss: 0.1891 - val_categorical_accuracy: 0.9560\n",
            "\n",
            "Epoch 00014: ReduceLROnPlateau reducing learning rate to 1.000000082740371e-09.\n",
            "Epoch 15/30\n",
            "147/147 [==============================] - 105s 713ms/step - loss: 0.0122 - categorical_accuracy: 0.9991 - val_loss: 0.1891 - val_categorical_accuracy: 0.9560\n",
            "\n",
            "Epoch 00015: ReduceLROnPlateau reducing learning rate to 1.000000082740371e-10.\n",
            "Epoch 16/30\n",
            "147/147 [==============================] - 105s 713ms/step - loss: 0.0122 - categorical_accuracy: 0.9991 - val_loss: 0.1891 - val_categorical_accuracy: 0.9560\n",
            "\n",
            "Epoch 00016: ReduceLROnPlateau reducing learning rate to 1.000000082740371e-11.\n",
            "Epoch 00016: early stopping\n"
          ],
          "name": "stdout"
        },
        {
          "output_type": "execute_result",
          "data": {
            "text/plain": [
              "<tensorflow.python.keras.callbacks.History at 0x7fb1b00d0f50>"
            ]
          },
          "metadata": {
            "tags": []
          },
          "execution_count": 12
        }
      ]
    },
    {
      "cell_type": "code",
      "metadata": {
        "colab": {
          "base_uri": "https://localhost:8080/"
        },
        "id": "z8jVRM6SNqc4",
        "outputId": "842a0507-5280-4efe-f3fd-2e4e393e0440"
      },
      "source": [
        "test_loss, test_accuracy = model.evaluate(X_test, y_test)\n",
        "print(f'test_loss={test_loss}')\n",
        "print(f'test_accuracy={test_accuracy}')"
      ],
      "execution_count": null,
      "outputs": [
        {
          "output_type": "stream",
          "text": [
            "9/9 [==============================] - 1s 75ms/step - loss: 0.1510 - categorical_accuracy: 0.9745\n",
            "test_loss=0.15102842450141907\n",
            "test_accuracy=0.9745454788208008\n"
          ],
          "name": "stdout"
        }
      ]
    }
  ]
}