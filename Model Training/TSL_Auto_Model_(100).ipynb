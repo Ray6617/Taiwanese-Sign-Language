{
  "nbformat": 4,
  "nbformat_minor": 0,
  "metadata": {
    "colab": {
      "name": "TSL Auto_Model (100).ipynb",
      "provenance": []
    },
    "kernelspec": {
      "name": "python3",
      "display_name": "Python 3"
    },
    "language_info": {
      "name": "python"
    }
  },
  "cells": [
    {
      "cell_type": "code",
      "metadata": {
        "id": "c6rfQxnfuRpY"
      },
      "source": [
        "import cv2\n",
        "import numpy as np\n",
        "import os\n",
        "from matplotlib import pyplot as plt\n",
        "from sklearn.model_selection import train_test_split\n",
        "from tensorflow.keras.utils import to_categorical\n",
        "from keras import models"
      ],
      "execution_count": null,
      "outputs": []
    },
    {
      "cell_type": "code",
      "metadata": {
        "id": "bKU74omKuaVH"
      },
      "source": [
        "actions = ['星期二', '幾月幾號', '台北', '星期一', '星期三', '有', '什麼', '完了嗎', '將近', '父母', '一共', '買', '家裡', '房子', '銀行', '昨天', '認識', '見她', '今天', '久', '比較', '一', '手語', '你', '他們', '星期五', '是嗎', '誰', '還沒有', '星期六', '桃園', '朋友', '高鐵到', '吃飯', '會不會呢', '我問你', '生日', '我們兩個', '租', '棒', '孩子', '零', '星期天', '明天', '運動', '星期四', '捷運站', '一樣', '上課', '我', '年齡', '無', '天氣', '相見', '名字']\n"
      ],
      "execution_count": null,
      "outputs": []
    },
    {
      "cell_type": "code",
      "metadata": {
        "id": "gvkMp4IRvRdu"
      },
      "source": [
        "from google.colab import drive\n",
        "drive.mount('/content/drive')"
      ],
      "execution_count": null,
      "outputs": []
    },
    {
      "cell_type": "code",
      "metadata": {
        "id": "T3GOs6o7ufO8"
      },
      "source": [
        "sequences = np.load('/content/drive/MyDrive/AI Python/Dataset/Refined_New_X_100.npy')\n",
        "labels = np.load('/content/drive/MyDrive/AI Python/Dataset/Refined_New_Y_100.npy')"
      ],
      "execution_count": null,
      "outputs": []
    },
    {
      "cell_type": "code",
      "metadata": {
        "id": "QVQ52_azuhJm"
      },
      "source": [
        "np.array(sequences).shape "
      ],
      "execution_count": null,
      "outputs": []
    },
    {
      "cell_type": "code",
      "metadata": {
        "id": "7g_j_bNdulBD"
      },
      "source": [
        "np.array(labels).shape"
      ],
      "execution_count": null,
      "outputs": []
    },
    {
      "cell_type": "code",
      "metadata": {
        "id": "HseVo76yulfp"
      },
      "source": [
        "X = np.array(sequences)"
      ],
      "execution_count": null,
      "outputs": []
    },
    {
      "cell_type": "code",
      "metadata": {
        "id": "jSJmsewFuqPL"
      },
      "source": [
        "y = to_categorical(labels).astype(int)"
      ],
      "execution_count": null,
      "outputs": []
    },
    {
      "cell_type": "code",
      "metadata": {
        "id": "ysGdvAVjuqtD"
      },
      "source": [
        "y.shape"
      ],
      "execution_count": null,
      "outputs": []
    },
    {
      "cell_type": "code",
      "metadata": {
        "id": "gkqiCSbIutoR"
      },
      "source": [
        "X_train, X_test, y_train, y_test = train_test_split(X, y, test_size=0.05)\n",
        "y_test.shape"
      ],
      "execution_count": null,
      "outputs": []
    },
    {
      "cell_type": "code",
      "metadata": {
        "colab": {
          "base_uri": "https://localhost:8080/"
        },
        "id": "yeZrvoMTUcMo",
        "outputId": "9abc93ce-2bde-47fd-dac9-ee28bb842e09"
      },
      "source": [
        "from tensorflow.keras.models import Sequential\n",
        "from tensorflow.keras.layers import LSTM, Dense, Dropout, GRU, Bidirectional, BatchNormalization,ReLU,Activation\n",
        "from tensorflow.keras.callbacks import TensorBoard\n",
        "\n",
        "\n",
        "model = Sequential()\n",
        "model.add(Bidirectional(GRU(165, return_sequences=True, activation='tanh'), input_shape=(60,165)))\n",
        "model.add(Bidirectional(GRU(165, return_sequences=False, activation='tanh')))\n",
        "model.add(Dense(64, activation='linear'))\n",
        "model.add(BatchNormalization())\n",
        "model.add(Activation('relu'))\n",
        "model.add(Dense(np.array(actions).shape[0], activation='softmax'))\n",
        "model.summary()"
      ],
      "execution_count": null,
      "outputs": [
        {
          "output_type": "stream",
          "text": [
            "Model: \"sequential_13\"\n",
            "_________________________________________________________________\n",
            "Layer (type)                 Output Shape              Param #   \n",
            "=================================================================\n",
            "bidirectional_31 (Bidirectio (None, 60, 330)           328680    \n",
            "_________________________________________________________________\n",
            "bidirectional_32 (Bidirectio (None, 330)               492030    \n",
            "_________________________________________________________________\n",
            "dense_29 (Dense)             (None, 64)                21184     \n",
            "_________________________________________________________________\n",
            "batch_normalization_11 (Batc (None, 64)                256       \n",
            "_________________________________________________________________\n",
            "activation_8 (Activation)    (None, 64)                0         \n",
            "_________________________________________________________________\n",
            "dense_30 (Dense)             (None, 55)                3575      \n",
            "=================================================================\n",
            "Total params: 845,725\n",
            "Trainable params: 845,597\n",
            "Non-trainable params: 128\n",
            "_________________________________________________________________\n"
          ],
          "name": "stdout"
        }
      ]
    },
    {
      "cell_type": "code",
      "metadata": {
        "colab": {
          "base_uri": "https://localhost:8080/"
        },
        "id": "LWdWXKrxs0xZ",
        "outputId": "aca1c601-c4ad-4a63-b19c-170485d28885"
      },
      "source": [
        "#AUTO_MODEL Architecture (100)\n",
        "from tensorflow.keras.optimizers import Adam\n",
        "model.compile(loss='categorical_crossentropy', optimizer=Adam(learning_rate=0.001), metrics=['categorical_accuracy'])\n",
        "import keras\n",
        "from keras.callbacks import ModelCheckpoint, EarlyStopping\n",
        "#checkpoint = keras.callbacks.ModelCheckpoint('/content/drive/MyDrive/AI Python/Dataset/Dropout.h5', monitor='val_categorical_accuracy', mode=\"max\", save_best_only=True, verbose=1)\n",
        "earlystopping = keras.callbacks.EarlyStopping(monitor='val_loss', mode=\"auto\", patience=3, verbose=1)\n",
        "rlr = keras.callbacks.ReduceLROnPlateau(monitor='val_loss', factor=0.1, patience=1, verbose=1, mode='auto')\n",
        "\n",
        "model.fit(X_train, y_train,validation_split = 0.1,\n",
        "              epochs=30,\n",
        "              batch_size = 32,\n",
        "              callbacks=[rlr,earlystopping])\n"
      ],
      "execution_count": null,
      "outputs": [
        {
          "output_type": "stream",
          "text": [
            "Epoch 1/30\n",
            "147/147 [==============================] - 9s 29ms/step - loss: 2.8442 - categorical_accuracy: 0.3273 - val_loss: 2.0246 - val_categorical_accuracy: 0.5717\n",
            "Epoch 2/30\n",
            "147/147 [==============================] - 3s 21ms/step - loss: 1.3412 - categorical_accuracy: 0.7344 - val_loss: 0.9118 - val_categorical_accuracy: 0.7897\n",
            "Epoch 3/30\n",
            "147/147 [==============================] - 3s 21ms/step - loss: 0.6206 - categorical_accuracy: 0.8718 - val_loss: 0.4750 - val_categorical_accuracy: 0.8700\n",
            "Epoch 4/30\n",
            "147/147 [==============================] - 3s 21ms/step - loss: 0.3418 - categorical_accuracy: 0.9279 - val_loss: 0.3809 - val_categorical_accuracy: 0.8815\n",
            "Epoch 5/30\n",
            "147/147 [==============================] - 3s 22ms/step - loss: 0.2275 - categorical_accuracy: 0.9490 - val_loss: 0.2933 - val_categorical_accuracy: 0.9044\n",
            "Epoch 6/30\n",
            "147/147 [==============================] - 3s 21ms/step - loss: 0.1618 - categorical_accuracy: 0.9624 - val_loss: 0.2403 - val_categorical_accuracy: 0.9446\n",
            "Epoch 7/30\n",
            "147/147 [==============================] - 3s 21ms/step - loss: 0.1019 - categorical_accuracy: 0.9792 - val_loss: 0.1830 - val_categorical_accuracy: 0.9560\n",
            "Epoch 8/30\n",
            "147/147 [==============================] - 3s 23ms/step - loss: 0.0942 - categorical_accuracy: 0.9789 - val_loss: 0.2071 - val_categorical_accuracy: 0.9293\n",
            "\n",
            "Epoch 00008: ReduceLROnPlateau reducing learning rate to 0.00010000000474974513.\n",
            "Epoch 9/30\n",
            "147/147 [==============================] - 3s 23ms/step - loss: 0.0416 - categorical_accuracy: 0.9949 - val_loss: 0.1225 - val_categorical_accuracy: 0.9675\n",
            "Epoch 10/30\n",
            "147/147 [==============================] - 3s 23ms/step - loss: 0.0284 - categorical_accuracy: 0.9977 - val_loss: 0.1168 - val_categorical_accuracy: 0.9732\n",
            "Epoch 11/30\n",
            "147/147 [==============================] - 3s 23ms/step - loss: 0.0240 - categorical_accuracy: 0.9994 - val_loss: 0.1123 - val_categorical_accuracy: 0.9751\n",
            "Epoch 12/30\n",
            "147/147 [==============================] - 3s 23ms/step - loss: 0.0219 - categorical_accuracy: 0.9989 - val_loss: 0.1105 - val_categorical_accuracy: 0.9675\n",
            "Epoch 13/30\n",
            "147/147 [==============================] - 3s 22ms/step - loss: 0.0196 - categorical_accuracy: 1.0000 - val_loss: 0.1111 - val_categorical_accuracy: 0.9732\n",
            "\n",
            "Epoch 00013: ReduceLROnPlateau reducing learning rate to 1.0000000474974514e-05.\n",
            "Epoch 14/30\n",
            "147/147 [==============================] - 3s 23ms/step - loss: 0.0180 - categorical_accuracy: 0.9996 - val_loss: 0.1093 - val_categorical_accuracy: 0.9732\n",
            "Epoch 15/30\n",
            "147/147 [==============================] - 3s 22ms/step - loss: 0.0182 - categorical_accuracy: 0.9991 - val_loss: 0.1079 - val_categorical_accuracy: 0.9732\n",
            "Epoch 16/30\n",
            "147/147 [==============================] - 3s 22ms/step - loss: 0.0174 - categorical_accuracy: 0.9991 - val_loss: 0.1080 - val_categorical_accuracy: 0.9732\n",
            "\n",
            "Epoch 00016: ReduceLROnPlateau reducing learning rate to 1.0000000656873453e-06.\n",
            "Epoch 17/30\n",
            "147/147 [==============================] - 3s 22ms/step - loss: 0.0167 - categorical_accuracy: 0.9996 - val_loss: 0.1075 - val_categorical_accuracy: 0.9732\n",
            "Epoch 18/30\n",
            "147/147 [==============================] - 3s 22ms/step - loss: 0.0167 - categorical_accuracy: 1.0000 - val_loss: 0.1076 - val_categorical_accuracy: 0.9732\n",
            "\n",
            "Epoch 00018: ReduceLROnPlateau reducing learning rate to 1.0000001111620805e-07.\n",
            "Epoch 19/30\n",
            "147/147 [==============================] - 3s 23ms/step - loss: 0.0177 - categorical_accuracy: 0.9994 - val_loss: 0.1078 - val_categorical_accuracy: 0.9732\n",
            "\n",
            "Epoch 00019: ReduceLROnPlateau reducing learning rate to 1.000000082740371e-08.\n",
            "Epoch 20/30\n",
            "147/147 [==============================] - 3s 23ms/step - loss: 0.0170 - categorical_accuracy: 0.9998 - val_loss: 0.1079 - val_categorical_accuracy: 0.9732\n",
            "\n",
            "Epoch 00020: ReduceLROnPlateau reducing learning rate to 1.000000082740371e-09.\n",
            "Epoch 00020: early stopping\n"
          ],
          "name": "stdout"
        },
        {
          "output_type": "execute_result",
          "data": {
            "text/plain": [
              "<tensorflow.python.keras.callbacks.History at 0x7f01cc8c0b50>"
            ]
          },
          "metadata": {
            "tags": []
          },
          "execution_count": 73
        }
      ]
    },
    {
      "cell_type": "code",
      "metadata": {
        "colab": {
          "base_uri": "https://localhost:8080/"
        },
        "id": "fn0aeFjGuAba",
        "outputId": "8ab7deab-d3fa-46cc-dd36-28dd20d4b2a1"
      },
      "source": [
        "test_loss, test_accuracy = model.evaluate(X_test, y_test)\n",
        "print(f'test_loss={test_loss}')\n",
        "print(f'test_accuracy={test_accuracy}')"
      ],
      "execution_count": null,
      "outputs": [
        {
          "output_type": "stream",
          "text": [
            "9/9 [==============================] - 0s 11ms/step - loss: 0.0774 - categorical_accuracy: 0.9782\n",
            "test_loss=0.07744494080543518\n",
            "test_accuracy=0.9781818389892578\n"
          ],
          "name": "stdout"
        }
      ]
    }
  ]
}