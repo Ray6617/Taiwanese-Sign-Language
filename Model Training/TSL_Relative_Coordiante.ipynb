{
  "nbformat": 4,
  "nbformat_minor": 0,
  "metadata": {
    "colab": {
      "name": "TSL Relative Coordiante.ipynb",
      "provenance": [],
      "collapsed_sections": []
    },
    "kernelspec": {
      "name": "python3",
      "display_name": "Python 3"
    },
    "language_info": {
      "name": "python"
    }
  },
  "cells": [
    {
      "cell_type": "code",
      "metadata": {
        "id": "eXiPoG4w6lR6"
      },
      "source": [
        "import cv2\n",
        "import numpy as np\n",
        "import os\n",
        "from matplotlib import pyplot as plt\n",
        "import time\n",
        "import mediapipe as mp\n",
        "from PIL import ImageFont, ImageDraw, Image"
      ],
      "execution_count": null,
      "outputs": []
    },
    {
      "cell_type": "code",
      "metadata": {
        "id": "lo7DqpTk6mqC"
      },
      "source": [
        "from sklearn.model_selection import train_test_split\n",
        "from tensorflow.keras.utils import to_categorical"
      ],
      "execution_count": null,
      "outputs": []
    },
    {
      "cell_type": "code",
      "metadata": {
        "id": "PUTiwueu6n4h"
      },
      "source": [
        "# Path for exported data, numpy arrays\n",
        "DATA_PATH = os.path.join(r\"/Users/krama/Desktop/Sign Language/Sign Language Dataset/Data\") \n",
        "\n",
        "subfolders = [ f.name for f in os.scandir(DATA_PATH) if f.is_dir() ]\n",
        "print(subfolders)\n",
        "\n",
        "# Actions that we try to detect\n",
        "actions = subfolders\n",
        "# Thirty videos worth of data\n",
        "no_sequences = 100\n",
        "\n",
        "\n",
        "# Videos are going to be 60 frames in length\n",
        "sequence_length = 60\n",
        "\n",
        "\n"
      ],
      "execution_count": null,
      "outputs": []
    },
    {
      "cell_type": "code",
      "metadata": {
        "id": "TSzupWXe5277"
      },
      "source": [
        "sequences,labels=[],[]\n",
        "for action in actions:\n",
        "    for sequence in range(no_sequences):\n",
        "        window=[]\n",
        "        for frame_num in range(sequence_length):\n",
        "            \n",
        "            res=np.load(os.path.join(DATA_PATH, action, str(sequence), str(frame_num) + \".npy\"))\n",
        "            pose=res[:33*4]#pose\n",
        "            hands=res[33*4:]\n",
        "            \n",
        "            pose=pose.reshape(-1,4)\n",
        "            hands=hands.reshape(-1,3)\n",
        "            \n",
        "            pose1=pose[:,0:3]-pose[0,0:3]\n",
        "            hand1=hands[:,:]-pose[0,0:3]\n",
        "            hand1[hands==0]=0\n",
        "            pose1=np.concatenate([np.expand_dims(pose1[0],axis=0),pose1[11:23]],axis=0).flatten()\n",
        "            all_pt=np.concatenate([pose1,hand1.flatten()],axis=0)\n",
        "            window.append(all_pt)\n",
        "        sequences.append(window)\n",
        "        labels.append(label_map[action])"
      ],
      "execution_count": null,
      "outputs": []
    },
    {
      "cell_type": "code",
      "metadata": {
        "id": "c3a4f483",
        "outputId": "fdcfef78-2298-4ad9-881f-8c650e957de9"
      },
      "source": [
        "np.array(sequences).shape \n",
        "#(3300,60,165) == 正常"
      ],
      "execution_count": null,
      "outputs": [
        {
          "output_type": "execute_result",
          "data": {
            "text/plain": [
              "(5500, 60, 165)"
            ]
          },
          "metadata": {
            "tags": []
          },
          "execution_count": 50
        }
      ]
    },
    {
      "cell_type": "code",
      "metadata": {
        "id": "7aa856b6"
      },
      "source": [
        "np.save(r\"/Users/krama/Desktop/Sign Language/Sign Language Dataset/Refined_New_X_100\",np.array(sequences))"
      ],
      "execution_count": null,
      "outputs": []
    },
    {
      "cell_type": "code",
      "metadata": {
        "id": "f4adaa57",
        "outputId": "4324e670-df61-47c4-9a23-b1dc2a9663cb"
      },
      "source": [
        "np.array(labels).shape"
      ],
      "execution_count": null,
      "outputs": [
        {
          "output_type": "execute_result",
          "data": {
            "text/plain": [
              "(5500,)"
            ]
          },
          "metadata": {
            "tags": []
          },
          "execution_count": 52
        }
      ]
    },
    {
      "cell_type": "code",
      "metadata": {
        "id": "5cf06234"
      },
      "source": [
        "np.save(r\"/Users/krama/Desktop/Sign Language/Sign Language Dataset/Refined_New_Y_100\",np.array(labels))"
      ],
      "execution_count": null,
      "outputs": []
    }
  ]
}