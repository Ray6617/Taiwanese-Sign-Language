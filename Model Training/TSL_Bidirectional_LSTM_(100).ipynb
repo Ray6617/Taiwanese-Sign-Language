{
  "cells": [
    {
      "cell_type": "code",
      "execution_count": null,
      "metadata": {
        "id": "c6rfQxnfuRpY"
      },
      "outputs": [],
      "source": [
        "import cv2\n",
        "import numpy as np\n",
        "import os\n",
        "from matplotlib import pyplot as plt\n",
        "from sklearn.model_selection import train_test_split\n",
        "from tensorflow.keras.utils import to_categorical\n",
        "from keras import models"
      ]
    },
    {
      "cell_type": "code",
      "execution_count": null,
      "metadata": {
        "id": "bKU74omKuaVH"
      },
      "outputs": [],
      "source": [
        "actions = ['星期二', '幾月幾號', '台北', '星期一', '星期三', '有', '什麼', '完了嗎', '將近', '父母', '一共', '買', '家裡', '房子', '銀行', '昨天', '認識', '見她', '今天', '久', '比較', '一', '手語', '你', '他們', '星期五', '是嗎', '誰', '還沒有', '星期六', '桃園', '朋友', '高鐵到', '吃飯', '會不會呢', '我問你', '生日', '我們兩個', '租', '棒', '孩子', '零', '星期天', '明天', '運動', '星期四', '捷運站', '一樣', '上課', '我', '年齡', '無', '天氣', '相見', '名字']\n"
      ]
    },
    {
      "cell_type": "code",
      "execution_count": null,
      "metadata": {
        "colab": {
          "base_uri": "https://localhost:8080/"
        },
        "id": "gvkMp4IRvRdu",
        "outputId": "b6f2ff8b-6c67-430b-c2a8-b0c6d7310f68"
      },
      "outputs": [
        {
          "name": "stdout",
          "output_type": "stream",
          "text": [
            "Mounted at /content/drive\n"
          ]
        }
      ],
      "source": [
        "from google.colab import drive\n",
        "drive.mount('/content/drive')"
      ]
    },
    {
      "cell_type": "code",
      "execution_count": null,
      "metadata": {
        "id": "T3GOs6o7ufO8"
      },
      "outputs": [],
      "source": [
        "sequences = np.load('/content/drive/MyDrive/AI Python/Dataset/Refined_New_X_100.npy')\n",
        "labels = np.load('/content/drive/MyDrive/AI Python/Dataset/Refined_New_Y_100.npy')"
      ]
    },
    {
      "cell_type": "code",
      "execution_count": null,
      "metadata": {
        "colab": {
          "base_uri": "https://localhost:8080/"
        },
        "id": "QVQ52_azuhJm",
        "outputId": "609dc8cd-54ac-4606-8c1d-577f44099303"
      },
      "outputs": [
        {
          "data": {
            "text/plain": [
              "(5500, 60, 165)"
            ]
          },
          "execution_count": 5,
          "metadata": {
            "tags": []
          },
          "output_type": "execute_result"
        }
      ],
      "source": [
        "np.array(sequences).shape "
      ]
    },
    {
      "cell_type": "code",
      "execution_count": null,
      "metadata": {
        "colab": {
          "base_uri": "https://localhost:8080/"
        },
        "id": "7g_j_bNdulBD",
        "outputId": "ba047662-bd93-46ee-ee6b-7ac3049d2c7f"
      },
      "outputs": [
        {
          "data": {
            "text/plain": [
              "(5500,)"
            ]
          },
          "execution_count": 6,
          "metadata": {
            "tags": []
          },
          "output_type": "execute_result"
        }
      ],
      "source": [
        "np.array(labels).shape"
      ]
    },
    {
      "cell_type": "code",
      "execution_count": null,
      "metadata": {
        "id": "HseVo76yulfp"
      },
      "outputs": [],
      "source": [
        "X = np.array(sequences)"
      ]
    },
    {
      "cell_type": "code",
      "execution_count": null,
      "metadata": {
        "id": "jSJmsewFuqPL"
      },
      "outputs": [],
      "source": [
        "y = to_categorical(labels).astype(int)"
      ]
    },
    {
      "cell_type": "code",
      "execution_count": null,
      "metadata": {
        "colab": {
          "base_uri": "https://localhost:8080/"
        },
        "id": "ysGdvAVjuqtD",
        "outputId": "89951bbf-2844-477d-e2a5-2421518bed47"
      },
      "outputs": [
        {
          "data": {
            "text/plain": [
              "(5500, 55)"
            ]
          },
          "execution_count": 9,
          "metadata": {
            "tags": []
          },
          "output_type": "execute_result"
        }
      ],
      "source": [
        "y.shape"
      ]
    },
    {
      "cell_type": "code",
      "execution_count": null,
      "metadata": {
        "colab": {
          "base_uri": "https://localhost:8080/"
        },
        "id": "gkqiCSbIutoR",
        "outputId": "ebbe1232-8797-4ce1-db53-e842261b5cd0"
      },
      "outputs": [
        {
          "data": {
            "text/plain": [
              "(275, 55)"
            ]
          },
          "execution_count": 10,
          "metadata": {
            "tags": []
          },
          "output_type": "execute_result"
        }
      ],
      "source": [
        "X_train, X_test, y_train, y_test = train_test_split(X, y, test_size=0.05)\n",
        "y_test.shape"
      ]
    },
    {
      "cell_type": "code",
      "execution_count": null,
      "metadata": {
        "colab": {
          "base_uri": "https://localhost:8080/"
        },
        "id": "2q1WKQi5qK2J",
        "outputId": "aa12541d-8612-4fed-8aef-0f47f1e68575"
      },
      "outputs": [
        {
          "name": "stdout",
          "output_type": "stream",
          "text": [
            "WARNING:tensorflow:Layer lstm will not use cuDNN kernels since it doesn't meet the criteria. It will use a generic GPU kernel as fallback when running on GPU.\n",
            "WARNING:tensorflow:Layer lstm will not use cuDNN kernels since it doesn't meet the criteria. It will use a generic GPU kernel as fallback when running on GPU.\n",
            "WARNING:tensorflow:Layer lstm will not use cuDNN kernels since it doesn't meet the criteria. It will use a generic GPU kernel as fallback when running on GPU.\n",
            "WARNING:tensorflow:Layer lstm_1 will not use cuDNN kernels since it doesn't meet the criteria. It will use a generic GPU kernel as fallback when running on GPU.\n",
            "WARNING:tensorflow:Layer lstm_1 will not use cuDNN kernels since it doesn't meet the criteria. It will use a generic GPU kernel as fallback when running on GPU.\n",
            "WARNING:tensorflow:Layer lstm_1 will not use cuDNN kernels since it doesn't meet the criteria. It will use a generic GPU kernel as fallback when running on GPU.\n",
            "WARNING:tensorflow:Layer lstm_2 will not use cuDNN kernels since it doesn't meet the criteria. It will use a generic GPU kernel as fallback when running on GPU.\n",
            "WARNING:tensorflow:Layer lstm_2 will not use cuDNN kernels since it doesn't meet the criteria. It will use a generic GPU kernel as fallback when running on GPU.\n",
            "WARNING:tensorflow:Layer lstm_2 will not use cuDNN kernels since it doesn't meet the criteria. It will use a generic GPU kernel as fallback when running on GPU.\n",
            "Model: \"sequential\"\n",
            "_________________________________________________________________\n",
            "Layer (type)                 Output Shape              Param #   \n",
            "=================================================================\n",
            "bidirectional (Bidirectional (None, 60, 1024)          2777088   \n",
            "_________________________________________________________________\n",
            "bidirectional_1 (Bidirection (None, 60, 2048)          16785408  \n",
            "_________________________________________________________________\n",
            "bidirectional_2 (Bidirection (None, 1024)              10489856  \n",
            "_________________________________________________________________\n",
            "dense (Dense)                (None, 512)               524800    \n",
            "_________________________________________________________________\n",
            "dense_1 (Dense)              (None, 256)               131328    \n",
            "_________________________________________________________________\n",
            "dense_2 (Dense)              (None, 55)                14135     \n",
            "=================================================================\n",
            "Total params: 30,722,615\n",
            "Trainable params: 30,722,615\n",
            "Non-trainable params: 0\n",
            "_________________________________________________________________\n"
          ]
        }
      ],
      "source": [
        "from tensorflow.keras.models import Sequential\n",
        "from tensorflow.keras.layers import LSTM, Dense, Dropout, GRU, Bidirectional, BatchNormalization,ReLU,Activation\n",
        "from tensorflow.keras.callbacks import TensorBoard\n",
        "\n",
        "\n",
        "model = Sequential()\n",
        "model.add(Bidirectional(LSTM(512, return_sequences=True, activation='elu'), input_shape=(60,165)))\n",
        "model.add(Bidirectional(LSTM(1024, return_sequences=True, activation='elu')))\n",
        "model.add(Bidirectional(LSTM(512, return_sequences=False, activation='elu')))\n",
        "model.add(Dense(512, activation='elu'))\n",
        "model.add(Dense(256, activation='elu'))\n",
        "model.add(Dense(np.array(actions).shape[0], activation='softmax'))\n",
        "model.summary()"
      ]
    },
    {
      "cell_type": "code",
      "execution_count": null,
      "metadata": {
        "colab": {
          "background_save": true,
          "base_uri": "https://localhost:8080/"
        },
        "id": "kKSTH6gNrI5R",
        "outputId": "5a170a52-576a-41e2-84d9-fea396b456c8"
      },
      "outputs": [
        {
          "name": "stdout",
          "output_type": "stream",
          "text": [
            "Epoch 1/30\n",
            "147/147 [==============================] - 3030s 21s/step - loss: nan - categorical_accuracy: 0.0317 - val_loss: nan - val_categorical_accuracy: 0.0172\n",
            "\n",
            "Epoch 00001: ReduceLROnPlateau reducing learning rate to 0.00010000000474974513.\n",
            "Epoch 2/30\n",
            "147/147 [==============================] - 3248s 22s/step - loss: nan - categorical_accuracy: 0.0183 - val_loss: nan - val_categorical_accuracy: 0.0172\n",
            "\n",
            "Epoch 00002: ReduceLROnPlateau reducing learning rate to 1.0000000474974514e-05.\n",
            "Epoch 3/30\n",
            "147/147 [==============================] - 3309s 23s/step - loss: nan - categorical_accuracy: 0.0183 - val_loss: nan - val_categorical_accuracy: 0.0172\n",
            "\n",
            "Epoch 00003: ReduceLROnPlateau reducing learning rate to 1.0000000656873453e-06.\n",
            "Epoch 00003: early stopping\n"
          ]
        },
        {
          "data": {
            "text/plain": [
              "<tensorflow.python.keras.callbacks.History at 0x7fbbeab85b50>"
            ]
          },
          "execution_count": null,
          "metadata": {},
          "output_type": "execute_result"
        }
      ],
      "source": [
        "#Bidirectional LSTM (100)\n",
        "from tensorflow.keras.optimizers import Adam\n",
        "model.compile(loss='categorical_crossentropy', optimizer=Adam(learning_rate=0.001), metrics=['categorical_accuracy'])\n",
        "import keras\n",
        "from keras.callbacks import ModelCheckpoint, EarlyStopping\n",
        "#checkpoint = keras.callbacks.ModelCheckpoint('/content/drive/MyDrive/AI Python/Dataset/Dropout.h5', monitor='val_categorical_accuracy', mode=\"max\", save_best_only=True, verbose=1)\n",
        "earlystopping = keras.callbacks.EarlyStopping(monitor='val_loss', mode=\"auto\", patience=3, verbose=1)\n",
        "rlr = keras.callbacks.ReduceLROnPlateau(monitor='val_loss', factor=0.1, patience=1, verbose=1, mode='auto')\n",
        "\n",
        "\n",
        "model.fit(X_train, y_train,validation_split = 0.1,\n",
        "              epochs=30,\n",
        "              batch_size = 32,\n",
        "              callbacks=[rlr,earlystopping])\n"
      ]
    },
    {
      "cell_type": "code",
      "execution_count": null,
      "metadata": {
        "colab": {
          "background_save": true,
          "base_uri": "https://localhost:8080/"
        },
        "id": "N6LYNnbNd0nv",
        "outputId": "1af8b17f-6d47-4be2-d9da-79bb9a006a0b"
      },
      "outputs": [
        {
          "name": "stdout",
          "output_type": "stream",
          "text": [
            "9/9 [==============================] - 35s 4s/step - loss: nan - categorical_accuracy: 0.0182\n",
            "test_loss=nan\n",
            "test_accuracy=0.0181818176060915\n"
          ]
        }
      ],
      "source": [
        "test_loss, test_accuracy = model.evaluate(X_test, y_test)\n",
        "print(f'test_loss={test_loss}')\n",
        "print(f'test_accuracy={test_accuracy}')"
      ]
    }
  ],
  "metadata": {
    "accelerator": "GPU",
    "colab": {
      "name": "TSL Bidirectional_LSTM (100).ipynb",
      "provenance": []
    },
    "kernelspec": {
      "display_name": "Python 3",
      "name": "python3"
    },
    "language_info": {
      "name": "python"
    }
  },
  "nbformat": 4,
  "nbformat_minor": 0
}